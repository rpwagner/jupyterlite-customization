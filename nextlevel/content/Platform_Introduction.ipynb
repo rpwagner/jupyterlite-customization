{
  "metadata": {
    "kernelspec": {
      "name": "python",
      "display_name": "Python (Pyodide)",
      "language": "python"
    },
    "language_info": {
      "codemirror_mode": {
        "name": "python",
        "version": 3
      },
      "file_extension": ".py",
      "mimetype": "text/x-python",
      "name": "python",
      "nbconvert_exporter": "python",
      "pygments_lexer": "ipython3",
      "version": "3.8"
    }
  },
  "nbformat_minor": 4,
  "nbformat": 4,
  "cells": [
    {
      "cell_type": "markdown",
      "source": "<img src=\"img/platform_introduction_native_app_header.png\">\n\n## Requirements\n- Install the [Globus Python SDK](https://globus-sdk-python.readthedocs.io/en/stable/installation.html).\n- Join the [Tutorial Users Group](https://app.globus.org/groups/50b6a29c-63ac-11e4-8062-22000ab68755) in order to experiment with sharing/guest collections.\n\n## Globus SDK References\n- Source code: https://github.com/globus/globus-sdk-python\n- Documentation: https://globus-sdk-python.readthedocs.io/en/stable/",
      "metadata": {}
    },
    {
      "cell_type": "code",
      "source": "import json  # just so we can pretty-print response data\nimport globus_sdk\n\n# Feel free to replace the collection UUIDs below with those of your own collections\ntutorial_collection_1 = \"6c54cade-bde5-45c1-bdea-f4bd71dba2cc\"  # collection \"Globus Tutorial Collection 1\"\ntutorial_collection_2 = \"31ce9ba0-176d-45a5-add3-f37d233ba47d\"  # collection \"Globus Tutorial Collection 2\"\ntutorial_users_group = \"50b6a29c-63ac-11e4-8062-22000ab68755\"  # group \"Tutorial Users\"\n\n# This is the Tutorial GCS endpoint, which will be used for creating new Guest Collections\ntutorial_endpoint_1 = \"261692a4-7e49-4def-b59e-cbfc65e3907d\"\n\nCLIENT_ID = \"3b1925c0-a87b-452b-a492-2c9921d3bd14\"  # client ID of the Jupyter Demo App in Globus Auth\nnative_auth_client = globus_sdk.NativeAppAuthClient(CLIENT_ID)",
      "metadata": {
        "trusted": true
      },
      "outputs": [],
      "execution_count": null
    },
    {
      "cell_type": "markdown",
      "source": "### Globus Scopes\n\nGlobus scopes are how applications request access to services. Scopes are used in OAuth2 Grants to obtain Access Tokens. This tutorial will use two scopes:\n\n* Transfer Scope -- For access to the Globus Transfer API\n* GCS Endpoint Scope -- For managing Guest Collections on Globus Tutorial Collection 1\n\nBoth of these scopes require access to data on collections, and so require the \"data_access\" scope dependency.",
      "metadata": {}
    },
    {
      "cell_type": "code",
      "source": "# Get GCS Data Access scopes for both mapped collections. These are needed to access any data on\n# a mapped collection\ntc1_data_access = globus_sdk.scopes.GCSCollectionScopeBuilder(tutorial_collection_1).data_access\ntc2_data_access = globus_sdk.scopes.GCSCollectionScopeBuilder(tutorial_collection_2).data_access\n\n# Add scopes as dependencies for the transfer scope, allowing transfer operations to access data\n# on both tutorial mapped collections.\ntransfer_scope = globus_sdk.scopes.TransferScopes.make_mutable(\"all\")\ntransfer_scope.add_dependency(tc1_data_access)\ntransfer_scope.add_dependency(tc2_data_access)\n\n# This scope will be used to manage the Endpoint on Tutorial 1, allowing us to Create/Update/Delete\n# Guest Collections on this endpoint.\ntutorial_ep1_manage_collections = globus_sdk.scopes.GCSEndpointScopeBuilder(tutorial_endpoint_1).make_mutable(\"manage_collections\")\ntutorial_ep1_manage_collections.add_dependency(tc1_data_access)\n\nrequested_scopes = [transfer_scope, tutorial_ep1_manage_collections]",
      "metadata": {
        "trusted": true
      },
      "outputs": [],
      "execution_count": null
    },
    {
      "cell_type": "markdown",
      "source": "# Globus Native App Grant\n\nThe Native App Grant OAuth2 flow will do the following:\n1. Log into Globus using a one-time, generated URL\n2. Consent to allow this Jupyter Notebook to access Globus Transfer on our behalf\n3. Return to the notebook with an Authorization Code (the result of step 2)\n4. Exchange the Authorization Code for an Access Token\n5. Create a TransferClient object using that Access Token as its authorization method",
      "metadata": {}
    },
    {
      "cell_type": "code",
      "source": "# Explicitly start the flow (some clients may support multiple flows)\nnative_auth_client.oauth2_start_flow(requested_scopes=requested_scopes, refresh_tokens=False)\nprint(f\"Login Here:\\n\\n{native_auth_client.oauth2_get_authorize_url()}\")\nprint(\"\\nIMPORTANT NOTE: the link above can only be used once!\")\nprint(\"If login or a later step in the flow fails, you must execute this cell again to generate a new link.\")\nauth_code = await input(\"PASTE YOUR CODE HERE> \")",
      "metadata": {
        "trusted": true
      },
      "outputs": [],
      "execution_count": null
    },
    {
      "cell_type": "code",
      "source": "tokens = native_auth_client.oauth2_exchange_code_for_tokens(auth_code).by_resource_server\nprint(\"Tokens Received!\")",
      "metadata": {
        "trusted": true
      },
      "outputs": [],
      "execution_count": null
    },
    {
      "cell_type": "code",
      "source": "# Extract the access token for the Globus Transfer service, known as \"transfer.api.globus.org\"\ntransfer_access_token = tokens['transfer.api.globus.org']['access_token']\ntutorial_ep1_access_token = tokens[tutorial_endpoint_1]['access_token']\n\n# Wrap the token in an object that implements the globus_sdk.GlobusAuthorizer interface\n# In this case, an AccessTokenAuthorizer, which takes an access token and produces Bearer Auth headers\ntransfer_authorizer = globus_sdk.AccessTokenAuthorizer(transfer_access_token)\ntutorial_ep1_authorizer = globus_sdk.AccessTokenAuthorizer(tutorial_ep1_access_token)\n\n# Create a TransferClient object which Authorizes its calls using that GlobusAuthorizer\ntc = globus_sdk.TransferClient(authorizer=transfer_authorizer)",
      "metadata": {
        "trusted": true
      },
      "outputs": [],
      "execution_count": null
    },
    {
      "cell_type": "markdown",
      "source": "## Help\n\nTest that our transfer client works by requesting help on the `get_endpoint` method. You can use this to get help on any method.",
      "metadata": {}
    },
    {
      "cell_type": "code",
      "source": "help(tc.get_endpoint)",
      "metadata": {
        "trusted": true
      },
      "outputs": [],
      "execution_count": null
    },
    {
      "cell_type": "markdown",
      "source": "## Using the client\n\nThe transfer client makes REST resources available via easy to use methods. The response from these methods wraps the HTTP response status, content type, text and JSON response body. ",
      "metadata": {}
    },
    {
      "cell_type": "code",
      "source": "response = tc.get_endpoint(tutorial_collection_1)\nprint(f\"HTTP Status Code: {response.http_status}\")\nprint(f\"Content Type: {response.content_type}\")\nprint(f\"Collection Display Name: {response['display_name']}\")  # shortcut for response.data['display_name']\nprint(f\"Data: {response}\")",
      "metadata": {
        "trusted": true
      },
      "outputs": [],
      "execution_count": null
    },
    {
      "cell_type": "markdown",
      "source": "Helper methods for APIs that returns lists have iterable responses, and automatically take care of paging where required:",
      "metadata": {}
    },
    {
      "cell_type": "code",
      "source": "response = tc.endpoint_search(filter_scope=\"my-endpoints\")\nfor ep in response:\n    print(f\"{ep['display_name'] or ep['canonical_name']} ({ep['id']})\")",
      "metadata": {
        "trusted": true
      },
      "outputs": [],
      "execution_count": null
    },
    {
      "cell_type": "markdown",
      "source": "If a helper method is not yet available for the desired API call, or for more low level control, the low-level interface can be used. Note that the low level interface does not do automatic paging:",
      "metadata": {}
    },
    {
      "cell_type": "code",
      "source": "response = tc.get(\"/endpoint_search\", query_params=dict(filter_fulltext=\"Globus Tutorial Collection\", limit=1))\nif response['DATA']:\n    print(f\"Endpoint ID: {response['DATA'][0]['id']} (Owner: {response['DATA'][0]['owner_string']})\")\n    print(f\"More matches? {response['has_next_page']}\")\nelse:\n    print(\"No results\")",
      "metadata": {
        "trusted": true
      },
      "outputs": [],
      "execution_count": null
    },
    {
      "cell_type": "markdown",
      "source": "## Handling errors\n\nIf the API returns an error response (HTTP status code 4xx or 5xx), it will be translated to a Python exception and raised:",
      "metadata": {}
    },
    {
      "cell_type": "code",
      "source": "try:\n    response = tc.get_endpoint(\"dcb2e10e-de27-4b99-8722-1a69aa3fc467\")\nexcept globus_sdk.GlobusAPIError as error:\n    print(f\"HTTP Status Code: {error.http_status}\")\n    print(f\"Error Code      : {error.code}\")\n    print(f\"Error Message   : {error.message}\")",
      "metadata": {
        "trusted": true
      },
      "outputs": [],
      "execution_count": null
    },
    {
      "cell_type": "markdown",
      "source": "There are five basic classes of errors:\n\n1. Bad request - there is something wrong with the request from the client, like a mispelled parameter name or missing required data. These errors have a code that starts with ``BadRequest`` or ``ClientError.BadRequest``.\n2. State conflict - this is a very broad category, and covers all the errors that can happen during normal operation, and neither the client nor the server could have anticipated and avoided the error. Examples: local filesystem permissions not allowing the requested path on a remote GridFTP endpoint, endpoint not found (could have been deleted concurrently by another client). This also includes network errors communicating with GridFTP endpoints and other external services. These errors typically have a code containing ``PermissionDenied``, ``Conflict``, or ``ExternalError``.\n3. Network error - network failure between the REST client and the REST API server. These errors will result in a ``globus_sdk.NetworkError`` being raised by the SDK.\n4. Planned downtime - code ``ServiceUnavailable``.\n5. Server error - caused by a bug in the REST API server (code ``ServerError.InternalError``). We log such errors and incorperate fixes into our next release, but developers are still encouraged to submit details to the mailing list when they encounter these errors. Note that sometimes these errors are actually a sign of a bad request type error, i.e. the bug in the server is that it's not anticipating the exact type of bad data, so it's not reporting the correct error code, but the problem can still be resolved by a change to the client.",
      "metadata": {}
    },
    {
      "cell_type": "markdown",
      "source": "# Collection Management",
      "metadata": {}
    },
    {
      "cell_type": "markdown",
      "source": "## Collection search\n\nGlobus has tens of thousands of registered collections. To find collections of interest you can access powerful search capabilities via the SDK. For example, to search for a given string across the descriptive fields of collections (names, description, keywords):",
      "metadata": {}
    },
    {
      "cell_type": "code",
      "source": "search_str = \"Globus Tutorial Collection\"\ncollections = tc.endpoint_search(search_str)\nprint(f\"==== Displaying collections that match '{search_str}' ===\")\nfor col in collections:\n    print(f\"{col['display_name'] or col['canonical_name']} ({col['id']})\")",
      "metadata": {
        "scrolled": true,
        "trusted": true
      },
      "outputs": [],
      "execution_count": null
    },
    {
      "cell_type": "markdown",
      "source": "## Restricting search scope with filters\n\nThere are also a number of default filters to restrict the search for 'my-endpoints', 'my-gcp-endpoints',     'recently-used', 'in-use', 'shared-by-me','shared-with-me') ",
      "metadata": {}
    },
    {
      "cell_type": "code",
      "source": "search_str = None\ncollections = tc.endpoint_search(filter_fulltext=search_str, filter_scope=\"recently-used\")\nfor col in collections:\n    print(f\"{col['display_name'] or col['canonical_name']} ({col['id']})\")",
      "metadata": {
        "trusted": true
      },
      "outputs": [],
      "execution_count": null
    },
    {
      "cell_type": "markdown",
      "source": "## Collection details\n\nYou can also retrieve complete information about an collection, including name, owner, and configuration details. ",
      "metadata": {}
    },
    {
      "cell_type": "code",
      "source": "collection = tc.get_endpoint(tutorial_collection_1)\nprint(f\"Display Name: {collection['display_name']}\")\nprint(f\"Owner       : {collection['owner_string']}\")\nprint(f\"ID          : {collection['id']}\")\nprint(f\"Network Use - Concurrency = {collection['preferred_concurrency']}\")\nprint(f\"Network Use - Parallelism = {collection['preferred_parallelism']}\")",
      "metadata": {
        "trusted": true
      },
      "outputs": [],
      "execution_count": null
    },
    {
      "cell_type": "markdown",
      "source": "# File operations",
      "metadata": {}
    },
    {
      "cell_type": "markdown",
      "source": "## Get a directory listing\n\nHaving activated an collection, you can now perform operations on it. For example, performing an ls command to retrieve directory contents. ",
      "metadata": {}
    },
    {
      "cell_type": "code",
      "source": "# help(tc.operation_ls)\ncollection_id = tutorial_collection_1\ncollection_path = \"/home/share/godata/\"\nresponse = tc.operation_ls(collection_id, path=collection_path)\nprint(f\"==== 'ls' for {collection_path} on collection {collection_id} ====\")\nfor item in response:\n    print(f\"{item['type']}: {item['name']} [{item['size']}]\")",
      "metadata": {
        "trusted": true
      },
      "outputs": [],
      "execution_count": null
    },
    {
      "cell_type": "markdown",
      "source": "## Make directory\n\nYou can create a new directory.",
      "metadata": {}
    },
    {
      "cell_type": "code",
      "source": "# help(tc.operation_mkdir)\ntry:\n    new_path = \"/~/tutorial_dir\"\n    mkdir_result = tc.operation_mkdir(collection_id, path=new_path)\n    print(mkdir_result['message'])\nexcept globus_sdk.GlobusAPIError as error:\n    print(f\"Error code: {error.code}\\nError message: {error.message}\")",
      "metadata": {
        "trusted": true
      },
      "outputs": [],
      "execution_count": null
    },
    {
      "cell_type": "markdown",
      "source": "## Rename\n\nYou can rename files and directories on your collections. ",
      "metadata": {}
    },
    {
      "cell_type": "code",
      "source": "# help(tc.operation_rename)\ntry:\n    response = tc.operation_rename(collection_id, oldpath=\"/~/tutorial_dir\", newpath=\"/~/tutorial_dir_renamed\")\n    print(response['message'])\nexcept globus_sdk.GlobusAPIError as error:\n    print(f\"Error code: {error.code}\\nError message: {error.message}\")",
      "metadata": {
        "trusted": true
      },
      "outputs": [],
      "execution_count": null
    },
    {
      "cell_type": "markdown",
      "source": "# Task submission and management\n\nThe Globus task interface allows you to create and manage asynchronous file transfer and deletion tasks. ",
      "metadata": {}
    },
    {
      "cell_type": "markdown",
      "source": "## Transfer\n\nCreating a transfer is a two stage process. First you must create a description of the data you want to transfer (which also creates a unique submission_id), and then you can submit the request to Globus to transfer that data. \n\nIf the submit_transfer fails, you can safely resubmit the same transfer_data again. The submission_id will ensure that this transfer request will be submitted once and only once.",
      "metadata": {}
    },
    {
      "cell_type": "code",
      "source": "# help(tc.submit_transfer)\nsource_collection_id = tutorial_collection_1\nsource_path = \"/home/share/godata/\"\n\ndest_collection_id = tutorial_collection_2\ndest_path = \"/~/\"\n\nlabel = \"My tutorial transfer\"\n\n# TransferData() automatically gets a submission_id for once-and-only-once submission\ntdata = globus_sdk.TransferData(tc, source_collection_id, dest_collection_id, label=label)\n\n## Recursively transfer source path contents\ntdata.add_item(source_path, dest_path, recursive=True)\n\n## Alternatively, transfer a specific file\n# tdata.add_item(\"/source/path/file.txt\", \"/dest/path/file.txt\"))\n\nsubmit_result = tc.submit_transfer(tdata)\nprint(f\"Task ID: {submit_result['task_id']}\")",
      "metadata": {
        "trusted": true
      },
      "outputs": [],
      "execution_count": null
    },
    {
      "cell_type": "markdown",
      "source": "## Get Task By ID\n\nWhile the task is running, or after completion, you can get information that describes the transfer task. ",
      "metadata": {}
    },
    {
      "cell_type": "code",
      "source": "response = tc.get_task(submit_result['task_id'])\nprint(f\"Label: {response['label']}\")\nprint(f\"Status: {response['status']}\")\nprint(f\"Transfer: {response['source_endpoint_display_name']} -> {response['destination_endpoint_display_name']}\")\n    \nif response.data[\"status\"] == \"SUCCEEDED\":\n    print(f\"Bytes transferred: {response['bytes_transferred']}\")\n    print(f\"Files transferred: {response['files_transferred']}\")\n    print(f\"Transfer rate: {response['effective_bytes_per_second']} Bps\")",
      "metadata": {
        "trusted": true
      },
      "outputs": [],
      "execution_count": null
    },
    {
      "cell_type": "markdown",
      "source": "## Check destination collection\n\nAfter the transfer has finished you can list the contents of the destination collection",
      "metadata": {}
    },
    {
      "cell_type": "code",
      "source": "ls_iter = tc.operation_ls(dest_collection_id, path=dest_path)\nprint(f\"==== 'ls' for {dest_path} on collection {dest_collection_id} ====\")\nfor item in ls_iter:\n    print(f\"{item['type']}: {item['name']} [{item['size']}]\")",
      "metadata": {
        "trusted": true
      },
      "outputs": [],
      "execution_count": null
    },
    {
      "cell_type": "markdown",
      "source": "## Get task list\n\nYou can get a list of past or current tasks with the following call. Note that only `TRANSFER` tasks are returned by default - the type filter is necessary to get `DELETE` tasks as well. This is a remnant of a legacy backward compatibility concern, and will likely be changed in the future to both being included by default.",
      "metadata": {}
    },
    {
      "cell_type": "code",
      "source": "# help(tc.task_list)\nresponse = tc.task_list(limit=10, filter=\"type:TRANSFER,DELETE\")\nfor i, item in enumerate(response):\n    print(item['status'],\n          item['task_id'], \n          item['type'],\n          item['source_endpoint_display_name'],\n          item['destination_endpoint_display_name'],\n          item['label'])",
      "metadata": {
        "trusted": true
      },
      "outputs": [],
      "execution_count": null
    },
    {
      "cell_type": "markdown",
      "source": "## Filter task list\n\nRetrieve only active tasks:",
      "metadata": {}
    },
    {
      "cell_type": "code",
      "source": "response = tc.task_list(limit=10, filter=\"type:TRANSFER,DELETE/status:ACTIVE\")\nfor i, item in enumerate(response):\n    print(item['status'],\n          item['task_id'], \n          item['type'],\n          item['source_endpoint_display_name'],\n          item['destination_endpoint_display_name'],\n          item['label'])",
      "metadata": {
        "trusted": true
      },
      "outputs": [],
      "execution_count": null
    },
    {
      "cell_type": "markdown",
      "source": "See [Common Query Parameters](https://docs.globus.org/api/transfer/task/#common_query_parameters) for a description of the `filter` parameter, and [Task List filters](https://docs.globus.org/api/transfer/task/#filter_and_order_by_options) for details of what is supported by task list.",
      "metadata": {}
    },
    {
      "cell_type": "markdown",
      "source": "## Cancel task\n\nYou can also cancel a running task. ",
      "metadata": {}
    },
    {
      "cell_type": "code",
      "source": "# help(tc.cancel_task)\nresponse = tc.cancel_task(submit_result['task_id'])\nprint(f\"{response['code']}: {response['message']}\")",
      "metadata": {
        "trusted": true
      },
      "outputs": [],
      "execution_count": null
    },
    {
      "cell_type": "markdown",
      "source": "## Get event list for task\n\nEvery task stores periodic event markers (e.g., errors, performance markers, etc.). You can retrieve and filter this list as follows. ",
      "metadata": {}
    },
    {
      "cell_type": "code",
      "source": "# help(tc.task_event_list)\nresponse = tc.task_event_list(submit_result['task_id'], limit=10)\nfor event in response:\n    print(event['time'], event['code'], event['is_error'], event['details'])\n",
      "metadata": {
        "trusted": true
      },
      "outputs": [],
      "execution_count": null
    },
    {
      "cell_type": "markdown",
      "source": "## Delete files task\n\nFile deletion is also an asynchronous task, that is submitted and monitored similar to a transfer task.",
      "metadata": {}
    },
    {
      "cell_type": "code",
      "source": "# help(tc.submit_delete)\n# Create a folder, delete it, wait for completion\ncollection_id = tutorial_collection_1\npath = \"/~/tutorial_delete_example\"\ntry:\n    tc.operation_mkdir(collection_id, path=path)\nexcept globus_sdk.GlobusAPIError as error:\n    if \"Exists\" in error.code:\n        print(\"Directory already exists, ignoring error\")\n    else:\n        raise\n\nlabel = \"My tutorial delete\"\n\n# DeleteData() automatically gets a submission_id for once-and-only-once submission\n# Note that recursive is a top level option for delete, not a per-path option like\n# it is for transfers.\nddata = globus_sdk.DeleteData(tc, collection_id, label=label, recursive=True)\n\n## Recursively delete path contents (because of recursive flag set above)\nddata.add_item(path)\n\nsubmit_result = tc.submit_delete(ddata)\nprint(f\"Task ID: {submit_result['task_id']}\")",
      "metadata": {
        "trusted": true
      },
      "outputs": [],
      "execution_count": null
    },
    {
      "cell_type": "markdown",
      "source": "## Wait for task to complete\n\nTransfer and delete tasks are asynchronous operations, and depending on their size may take a long time to complete. If you wish to wait for a task to complete, the TransferClient provides a task_wait helper method:",
      "metadata": {}
    },
    {
      "cell_type": "code",
      "source": "# Wait for a task to finish for 10 minutes, polling every 15 seconds.\ncompleted = tc.task_wait(submit_result['task_id'], timeout=600, polling_interval=15)\nif completed:\n    print(\"Task finished!\")\nelse:\n    print(\"Task still running after timeout reached.\")\n",
      "metadata": {
        "trusted": true
      },
      "outputs": [],
      "execution_count": null
    },
    {
      "cell_type": "markdown",
      "source": "# Bookmarks\n\nBookmarks allow you to keep a list of frequently used collections and paths. Full management capabilities (create, retrieve, update, delete) are supported on bookmarks. Note that the REST API itself does not directly support bookmarks when performing operations. It is the responsibility of the client to allow the users to choose bookmarks, and then translate them to collection ids to perform ls operations and submit transfers. In particular, the www.globus.org website has full support for bookmarks.",
      "metadata": {}
    },
    {
      "cell_type": "markdown",
      "source": "## Create a Bookmark",
      "metadata": {}
    },
    {
      "cell_type": "code",
      "source": "bookmark_name = \"My Tutorial Bookmark\"\ncollection_id = tutorial_collection_1\ncollection_path = \"/home/share/godata/\"\nresponse = tc.create_bookmark({\"endpoint_id\": collection_id, \"path\": collection_path,\"name\": bookmark_name})\nbookmark_id = response['id']\nprint(response)",
      "metadata": {
        "trusted": true
      },
      "outputs": [],
      "execution_count": null
    },
    {
      "cell_type": "markdown",
      "source": "## Get a list of bookmarks",
      "metadata": {}
    },
    {
      "cell_type": "code",
      "source": "response = tc.bookmark_list()\nfor b in response:\n    print (b['name'], b['path'], b['id'])",
      "metadata": {
        "trusted": true
      },
      "outputs": [],
      "execution_count": null
    },
    {
      "cell_type": "markdown",
      "source": "## Update a bookmark\n",
      "metadata": {}
    },
    {
      "cell_type": "code",
      "source": "bookmark_data = {\n    'name': 'My Updated Tutorial Bookmark'\n}\nresponse = tc.update_bookmark(bookmark_id, bookmark_data)\nprint (response)",
      "metadata": {
        "trusted": true
      },
      "outputs": [],
      "execution_count": null
    },
    {
      "cell_type": "markdown",
      "source": "## Delete a Bookmark",
      "metadata": {}
    },
    {
      "cell_type": "code",
      "source": "response = tc.delete_bookmark(bookmark_id)\nprint (response)",
      "metadata": {
        "trusted": true
      },
      "outputs": [],
      "execution_count": null
    },
    {
      "cell_type": "markdown",
      "source": "# Guest Collections\n\nGuest Collections are virtual collections that refer to a particular \"host guest collection\" and path, which allows Globus to manage access to that mapped collection. Folders on the guest collection can be easily shared with other Globus users and groups via access control rules.",
      "metadata": {}
    },
    {
      "cell_type": "markdown",
      "source": "## Create a guest collection",
      "metadata": {}
    },
    {
      "cell_type": "code",
      "source": "# Fetch the URL for the tutorial endpoint, so we can Query the GCS Manager\ntutorial_collection_info = tc.get_endpoint(tutorial_endpoint_1)\ngcs_manager_url = tutorial_collection_info[\"gcs_manager_url\"]\n\n# Fetch the local credential information from the GCS Manager\ngc = globus_sdk.GCSClient(tutorial_collection_info[\"gcs_manager_url\"], authorizer=tutorial_ep1_authorizer)\nlocal_ep1_user_credential = gc.get_user_credential_list()[\"data\"][0]\nprint(f\"Found local user credential with username {local_ep1_user_credential['username']}\")",
      "metadata": {
        "trusted": true
      },
      "outputs": [],
      "execution_count": null
    },
    {
      "cell_type": "code",
      "source": "# Create a dir to share\nhost_collection_id = tutorial_collection_1\nhost_collection_path = \"/~/shared_dir2\"\ntry:\n    response = tc.operation_mkdir(host_collection_id, path=host_collection_path)\nexcept globus_sdk.GlobusAPIError as error:\n    # Ignore the error if the directory already exists, otherwise raise\n    if \"Exists\" not in error.code:\n        raise\n\n# Define the guest collection\nguest_collection = {\n        \"DATA_TYPE\": \"collection#1.4.0\",\n        \"collection_type\": \"guest\",\n        \"display_name\": \"My Tutorial Guest Collection2\",\n        \"description\": \"Test creating a share from globus-jupyter-notebook\",\n        \"identity_id\": local_ep1_user_credential[\"identity_id\"],\n        \"storage_gateway_id\": local_ep1_user_credential[\"storage_gateway_id\"],\n        \"collection_base_path\": host_collection_path,\n        \"public\": True,\n        \"user_credential_id\": local_ep1_user_credential[\"id\"],\n        \"mapped_collection_id\": host_collection_id,\n}\n\nresponse = gc.create_collection(guest_collection)\nguest_collection_id = response[\"id\"]",
      "metadata": {
        "trusted": true
      },
      "outputs": [],
      "execution_count": null
    },
    {
      "cell_type": "markdown",
      "source": "## Get collection information",
      "metadata": {}
    },
    {
      "cell_type": "code",
      "source": "response = tc.get_endpoint(guest_collection_id)\nprint(f\"Display name: {response['display_name']}\")\nprint(f\"Owner: {response['owner_string']}\")\nprint(f\"Host Endpoint ID: {response['host_endpoint_id']}\")",
      "metadata": {
        "trusted": true
      },
      "outputs": [],
      "execution_count": null
    },
    {
      "cell_type": "markdown",
      "source": "## Get a list of guest collections",
      "metadata": {}
    },
    {
      "cell_type": "code",
      "source": "endpoints = tc.endpoint_search(filter_scope=\"shared-by-me\")\nprint(\"==== Displaying guest collections ===\")\nfor ep in endpoints:\n    print(f\"{ep['display_name']} ({ep['id']})\")\n",
      "metadata": {
        "scrolled": true,
        "trusted": true
      },
      "outputs": [],
      "execution_count": null
    },
    {
      "cell_type": "markdown",
      "source": "## Add a new access control rule\n\nYou can share access to different paths within your guest collection with users, groups, or publicly. The principal_type can be one of 'identity', 'group', 'all_authenticated_users', or 'anonymous'.  Each access rule is given a unique access_rule_id, which can be used to manage that access rule.\n\nHere is an example of sharing with the tutorial users group. ",
      "metadata": {}
    },
    {
      "cell_type": "code",
      "source": "rule_data = {\n    'DATA_TYPE': 'access',\n    'permissions': 'rw',\n    'principal' : tutorial_users_group,  # use this if sharing with a group of users\n    'principal_type' : 'group',  # use this if sharing with a group of users\n    #'principal': 'IDENTITY_ID',  # use this if sharing with a single user (identity)\n    #'principal_type': 'identity',  # use this if sharing with a single user (identity)\n    'path': '/'\n}\n\ntry:\n    response = tc.add_endpoint_acl_rule(guest_collection_id, rule_data)\n    access_rule_id = response['access_id']\n    print (response)\nexcept globus_sdk.GlobusAPIError as error:\n    if \"Exists\" in error.code:\n        print(\"ACL already exists, ignoring error\")\n    else:\n        raise",
      "metadata": {
        "trusted": true
      },
      "outputs": [],
      "execution_count": null
    },
    {
      "cell_type": "markdown",
      "source": "## Get list of access rules",
      "metadata": {}
    },
    {
      "cell_type": "code",
      "source": "response = tc.endpoint_acl_list(guest_collection_id)\nfor rule in response:\n    print (rule['id'], rule['principal_type'], rule['principal'], rule['permissions'], rule['path'])\nprint(response)",
      "metadata": {
        "trusted": true
      },
      "outputs": [],
      "execution_count": null
    },
    {
      "cell_type": "markdown",
      "source": "## Get access rule by id\n\nGet the access rule details using its access_rule_id",
      "metadata": {}
    },
    {
      "cell_type": "code",
      "source": "response = tc.get_endpoint_acl_rule(guest_collection_id, access_rule_id)\nprint (response)",
      "metadata": {
        "trusted": true
      },
      "outputs": [],
      "execution_count": null
    },
    {
      "cell_type": "markdown",
      "source": "## Update access rule\n\nUpdate an access rule using its access_rule_id.",
      "metadata": {}
    },
    {
      "cell_type": "code",
      "source": "rule_update = {\n    'DATA_TYPE': 'access',\n    'permissions': 'r',\n}\nresponse = tc.update_endpoint_acl_rule(guest_collection_id, access_rule_id, rule_update)\nprint (response)",
      "metadata": {
        "trusted": true
      },
      "outputs": [],
      "execution_count": null
    },
    {
      "cell_type": "markdown",
      "source": "## Delete access rule\n\nDelete an access rule using its access_rule_id.",
      "metadata": {}
    },
    {
      "cell_type": "code",
      "source": "response = tc.delete_endpoint_acl_rule(guest_collection_id, access_rule_id)\nprint (response)",
      "metadata": {
        "trusted": true
      },
      "outputs": [],
      "execution_count": null
    },
    {
      "cell_type": "markdown",
      "source": "# Low-level SDK interface\n\nThe helper methods are all built on top of the low level interface. If a helper method is not yet available for the API resource you wish to use, the low level interface can be used directly.\n\nNote that the examples in this section use the endpoint management API resources, which DO have helper methods, but they still serve as good examples for how to use the low level interface.",
      "metadata": {}
    },
    {
      "cell_type": "markdown",
      "source": "## POST request\n\nCreate an endpoint using the low level API:",
      "metadata": {}
    },
    {
      "cell_type": "code",
      "source": "guest_collection = {\n        \"DATA_TYPE\": \"collection#1.4.0\",\n        \"collection_type\": \"guest\",\n        \"display_name\": \"Tutorial Create Example\",\n        \"description\": \"Test creating a share from globus-jupyter-notebook\",\n        \"identity_id\": local_ep1_user_credential[\"identity_id\"],\n        \"storage_gateway_id\": local_ep1_user_credential[\"storage_gateway_id\"],\n        \"collection_base_path\": host_collection_path,\n        \"public\": True,\n        \"user_credential_id\": local_ep1_user_credential[\"id\"],\n        \"mapped_collection_id\": host_collection_id,\n}\n\nresponse = gc.post(\"/collections/\", data=guest_collection)\nprint(response)\nguest_collection_id = response[\"data\"][0][\"id\"]",
      "metadata": {
        "trusted": true
      },
      "outputs": [],
      "execution_count": null
    },
    {
      "cell_type": "markdown",
      "source": "## GET request\n\nDo a GET on the newly create endpoint:",
      "metadata": {}
    },
    {
      "cell_type": "code",
      "source": "response = gc.get(f\"/collections/{guest_collection_id}\",\n           query_params=dict(fields=\"id,display_name,description\"))\nprint(response)",
      "metadata": {
        "trusted": true
      },
      "outputs": [],
      "execution_count": null
    },
    {
      "cell_type": "markdown",
      "source": "## PUT request\n\nUpdate the description on the newly created endpoint:",
      "metadata": {}
    },
    {
      "cell_type": "code",
      "source": "endpoint_update = {\n    \"DATA_TYPE\": \"collection#1.4.0\",\n    \"public\": True,\n    \"collection_type\": \"guest\",\n    \"display_name\": \"Tutorial Update Example\",\n    \"collection_base_path\": host_collection_path,\n    \"description\": \"Test updating description using low level API\",\n    \"identity_id\": local_ep1_user_credential[\"identity_id\"],\n    \"storage_gateway_id\": local_ep1_user_credential[\"storage_gateway_id\"],\n    \"user_credential_id\": local_ep1_user_credential[\"id\"],\n    \"mapped_collection_id\": host_collection_id,\n}\nresponse = gc.put(f\"/collections/{guest_collection_id}\", data=endpoint_update)\nprint(response)",
      "metadata": {
        "trusted": true
      },
      "outputs": [],
      "execution_count": null
    },
    {
      "cell_type": "markdown",
      "source": "## DELETE request\n\nNow delete the endpoint:",
      "metadata": {}
    },
    {
      "cell_type": "code",
      "source": "response = gc.delete(f\"/collections/{guest_collection_id}\")\nprint(response)",
      "metadata": {
        "trusted": true
      },
      "outputs": [],
      "execution_count": null
    },
    {
      "cell_type": "markdown",
      "source": "## More exercises\n\nYou can practice working with the SDK and the Globus Transfer service with [the exercises in this notebook](Transfer_API_Exercises.ipynb).",
      "metadata": {}
    }
  ]
}