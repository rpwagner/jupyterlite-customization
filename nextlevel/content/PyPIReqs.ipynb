{
 "cells": [
  {
   "cell_type": "code",
   "execution_count": 1,
   "id": "324aed9a-ac93-4953-b389-3e54db86d7c0",
   "metadata": {},
   "outputs": [],
   "source": [
    "import csv\n",
    "import json\n",
    "import requests\n",
    "from packaging.requirements import Requirement"
   ]
  },
  {
   "cell_type": "code",
   "execution_count": 4,
   "id": "3b2ba70c-4a14-4ea7-9486-1f2d3893f365",
   "metadata": {},
   "outputs": [],
   "source": [
    "def get_package_deps(package_name):\n",
    "    dependencies = []\n",
    "    # build the URL for the package metadata\n",
    "    pypi_url = f'https://pypi.python.org/pypi/{package_name}/json'\n",
    "    # get the package metdata\n",
    "    package_metadata = requests.get(pypi_url).json()\n",
    "    for dep in package_metadata['info']['requires_dist']:\n",
    "        dependencies.append(Requirement(dep).name)\n",
    "    return dependencies"
   ]
  },
  {
   "cell_type": "code",
   "execution_count": 5,
   "id": "84b9e2e0-3593-417f-ad21-d636369bef16",
   "metadata": {},
   "outputs": [
    {
     "name": "stdout",
     "output_type": "stream",
     "text": [
      "geopy\n",
      "matplotlib\n",
      "mercantile\n",
      "pillow\n",
      "rasterio\n",
      "requests\n",
      "joblib\n",
      "xyzservices\n"
     ]
    }
   ],
   "source": [
    "deps = get_package_deps('contextily')\n",
    "for dep in deps:\n",
    "    print(dep)"
   ]
  },
  {
   "cell_type": "markdown",
   "id": "bd3d493f-7008-4720-a6e4-9495b01513f0",
   "metadata": {},
   "source": [
    "\n",
    "```mermaid\n",
    "flowchart LR\n",
    "\n",
    "A[geopy] --> B[contextily]\n",
    "C[matplotlib] --> B\n",
    "D[mercantile] --> B\n",
    "E[pillow] --> B\n",
    "F[rasterio] --> B\n",
    "G[requests] --> B\n",
    "H[joblib] --> B\n",
    "I[xyzservices] --> B\n",
    "```"
   ]
  },
  {
   "cell_type": "markdown",
   "id": "438e892f-570c-4995-a0a6-b6a07d63c6b9",
   "metadata": {},
   "source": [
    "\n",
    "```\n",
    "flowchart TD\n",
    "\n",
    "A[Hard] -->|Text| B(Round)\n",
    "B --> C{Decision}\n",
    "C -->|One| D[Result 1]\n",
    "C -->|Two| E[Result 2]\n",
    "```\n",
    "\n",
    "\n",
    "```mermaid\n",
    "flowchart TD\n",
    "\n",
    "A[Hard] -->|Text| B(Round)\n",
    "B --> C{Decision}\n",
    "C -->|One| D[Result 1]\n",
    "C -->|Two| E[Result 2]\n",
    "```"
   ]
  },
  {
   "cell_type": "code",
   "execution_count": null,
   "id": "bb4ae159-e84f-4dca-937a-774b61e26fc2",
   "metadata": {},
   "outputs": [],
   "source": [
    "B[geopy] --> A\n",
    "C[matplotlib] --> A\n",
    "D[mercantile] --> A\n",
    "E[pillow] --> A\n",
    "F[rasterio] --> A\n",
    "G[requests] --> A\n",
    "H[joblib] --> A\n",
    "I[xyzservices] --> A"
   ]
  }
 ],
 "metadata": {
  "kernelspec": {
   "display_name": "Python 3 (ipykernel)",
   "language": "python",
   "name": "python3"
  },
  "language_info": {
   "codemirror_mode": {
    "name": "ipython",
    "version": 3
   },
   "file_extension": ".py",
   "mimetype": "text/x-python",
   "name": "python",
   "nbconvert_exporter": "python",
   "pygments_lexer": "ipython3",
   "version": "3.11.5"
  }
 },
 "nbformat": 4,
 "nbformat_minor": 5
}
